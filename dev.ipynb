{
 "cells": [
  {
   "cell_type": "code",
   "execution_count": 2,
   "metadata": {},
   "outputs": [],
   "source": [
    "%load_ext autoreload\n",
    "%autoreload 2"
   ]
  },
  {
   "cell_type": "code",
   "execution_count": 3,
   "metadata": {},
   "outputs": [],
   "source": [
    "import gym\n",
    "import pandas\n",
    "import torch\n",
    "import torch.nn as nn\n",
    "import random\n",
    "from collections import deque\n",
    "from agents.DQN import DQN\n",
    "from networks.base_network import StandardNN\n",
    "import gym\n",
    "from torch import nn\n",
    "import torch\n",
    "from typing import Union\n",
    "import numpy as np\n",
    "import matplotlib.pyplot as plt\n",
    "from environments.easy import easy_env"
   ]
  },
  {
   "cell_type": "code",
   "execution_count": 4,
   "metadata": {},
   "outputs": [],
   "source": [
    "import matplotlib.pyplot as plt\n",
    "def moving_average(x, window_length: Union[int, None] = None) -> np.array:\n",
    "    if window_length is None:\n",
    "        window_length = len(x) // 50\n",
    "    return np.convolve(x, np.ones(window_length), \"valid\") / window_length\n",
    "\n",
    "\n",
    "def plot_results(test_rewards):\n",
    "    ma_rewards = moving_average(test_rewards)\n",
    "    plt.plot(ma_rewards, label=\"rewards\")\n",
    "    plt.show()"
   ]
  },
  {
   "cell_type": "code",
   "execution_count": 5,
   "metadata": {},
   "outputs": [],
   "source": [
    "env = gym.make('CartPole-v1')\n",
    "\n",
    "try:\n",
    "    n_obs = env.reset().size\n",
    "except AttributeError:\n",
    "    print('oh no, n_obs unknown')\n",
    "\n",
    "n_actions = env.action_space.n  # Not sure how to programatically get this - some manual config will do\n",
    "\n",
    "\n",
    "# agent = eg_model(network1, env.action_space.n)"
   ]
  },
  {
   "cell_type": "code",
   "execution_count": 6,
   "metadata": {},
   "outputs": [],
   "source": [
    "network1 = StandardNN(n_obs, n_actions)"
   ]
  },
  {
   "cell_type": "code",
   "execution_count": 89,
   "metadata": {},
   "outputs": [],
   "source": [
    "# env = easy_env()\n",
    "# n_actions = env.n_actions\n",
    "# n_obs = env.n_obs"
   ]
  },
  {
   "cell_type": "code",
   "execution_count": 10,
   "metadata": {},
   "outputs": [],
   "source": [
    "max_games = 5000\n",
    "agent = DQN(network1, n_actions, env, max_games= max_games, min_epsilon=0.1, lr=0.1)\n",
    "agent._play_games(max_games)"
   ]
  },
  {
   "cell_type": "code",
   "execution_count": 12,
   "metadata": {},
   "outputs": [
    {
     "data": {
      "text/plain": [
       "{0: 32382, 1: 33600}"
      ]
     },
     "execution_count": 12,
     "metadata": {},
     "output_type": "execute_result"
    }
   ],
   "source": [
    "agent.action_counts"
   ]
  },
  {
   "cell_type": "code",
   "execution_count": 11,
   "metadata": {},
   "outputs": [
    {
     "data": {
      "image/png": "[encoded data removed]",
      "text/plain": [
       "<Figure size 432x288 with 1 Axes>"
      ]
     },
     "metadata": {
      "needs_background": "light"
     },
     "output_type": "display_data"
    }
   ],
   "source": [
    "total_rewards = [i[-1] for i in agent.reward_averages]\n",
    "plot_results(total_rewards)"
   ]
  },
  {
   "cell_type": "code",
   "execution_count": null,
   "metadata": {},
   "outputs": [],
   "source": []
  },
  {
   "cell_type": "code",
   "execution_count": 16,
   "metadata": {},
   "outputs": [],
   "source": [
    "a = [torch.tensor([4, 3]).tolist(), torch.tensor([1, 2]).tolist()]"
   ]
  },
  {
   "cell_type": "code",
   "execution_count": 18,
   "metadata": {},
   "outputs": [
    {
     "data": {
      "text/plain": [
       "tensor([[4, 3],\n",
       "        [1, 2]])"
      ]
     },
     "execution_count": 18,
     "metadata": {},
     "output_type": "execute_result"
    }
   ],
   "source": [
    "torch.tensor(a)"
   ]
  },
  {
   "cell_type": "code",
   "execution_count": 49,
   "metadata": {},
   "outputs": [
    {
     "ename": "ValueError",
     "evalue": "only one element tensors can be converted to Python scalars",
     "output_type": "error",
     "traceback": [
      "\u001b[0;31m---------------------------------------------------------------------------\u001b[0m",
      "\u001b[0;31mValueError\u001b[0m                                Traceback (most recent call last)",
      "\u001b[1;32m/Users/personal/git/RLdog/dev.ipynb Cell 9\u001b[0m in \u001b[0;36m<cell line: 2>\u001b[0;34m()\u001b[0m\n\u001b[1;32m      <a href='vscode-notebook-cell:/Users/personal/git/RLdog/dev.ipynb#ch0000010?line=0'>1</a>\u001b[0m b \u001b[39m=\u001b[39m [torch\u001b[39m.\u001b[39mtensor([\u001b[39m-\u001b[39m\u001b[39m0.0392\u001b[39m, \u001b[39m-\u001b[39m\u001b[39m0.0203\u001b[39m, \u001b[39m-\u001b[39m\u001b[39m0.0448\u001b[39m, \u001b[39m-\u001b[39m\u001b[39m0.0247\u001b[39m]), \u001b[39m1\u001b[39m, \u001b[39m1.0\u001b[39m, torch\u001b[39m.\u001b[39mtensor([\u001b[39m-\u001b[39m\u001b[39m0.0396\u001b[39m,  \u001b[39m0.1754\u001b[39m, \u001b[39m-\u001b[39m\u001b[39m0.0453\u001b[39m, \u001b[39m-\u001b[39m\u001b[39m0.3312\u001b[39m]), \u001b[39mFalse\u001b[39;00m]\n\u001b[0;32m----> <a href='vscode-notebook-cell:/Users/personal/git/RLdog/dev.ipynb#ch0000010?line=1'>2</a>\u001b[0m torch\u001b[39m.\u001b[39;49mtensor(b)\n",
      "\u001b[0;31mValueError\u001b[0m: only one element tensors can be converted to Python scalars"
     ]
    }
   ],
   "source": [
    "b = [torch.tensor([-0.0392, -0.0203, -0.0448, -0.0247]), 1, 1.0, torch.tensor([-0.0396,  0.1754, -0.0453, -0.3312]), False]\n",
    "torch.tensor(b)"
   ]
  },
  {
   "cell_type": "code",
   "execution_count": null,
   "metadata": {},
   "outputs": [],
   "source": []
  },
  {
   "cell_type": "code",
   "execution_count": 66,
   "metadata": {},
   "outputs": [],
   "source": [
    "import torch\n",
    "\n",
    "net = nn.Sequential(\n",
    "    nn.Linear(2, 2),\n",
    "    nn.Linear(2, 1)\n",
    ")"
   ]
  },
  {
   "cell_type": "code",
   "execution_count": 67,
   "metadata": {},
   "outputs": [
    {
     "data": {
      "text/plain": [
       "Sequential(\n",
       "  (0): Linear(in_features=2, out_features=2, bias=True)\n",
       "  (1): Linear(in_features=2, out_features=1, bias=True)\n",
       ")"
      ]
     },
     "execution_count": 67,
     "metadata": {},
     "output_type": "execute_result"
    }
   ],
   "source": [
    "net"
   ]
  },
  {
   "cell_type": "code",
   "execution_count": 70,
   "metadata": {},
   "outputs": [],
   "source": [
    "inp = torch.tensor([[1.0, 2.0],[3.0, 4.0]], dtype=torch.float32)\n"
   ]
  },
  {
   "cell_type": "code",
   "execution_count": 71,
   "metadata": {},
   "outputs": [
    {
     "data": {
      "text/plain": [
       "tensor([[0.1233],\n",
       "        [0.4014]], grad_fn=<AddmmBackward0>)"
      ]
     },
     "execution_count": 71,
     "metadata": {},
     "output_type": "execute_result"
    }
   ],
   "source": [
    "net(inp)"
   ]
  }
 ],
 "metadata": {
  "kernelspec": {
   "display_name": "Python 3.10.5 64-bit",
   "language": "python",
   "name": "python3"
  },
  "language_info": {
   "codemirror_mode": {
    "name": "ipython",
    "version": 3
   },
   "file_extension": ".py",
   "mimetype": "text/x-python",
   "name": "python",
   "nbconvert_exporter": "python",
   "pygments_lexer": "ipython3",
   "version": "3.10.5"
  },
  "orig_nbformat": 4,
  "vscode": {
   "interpreter": {
    "hash": "5ee6f23f9c4d80c203dea4faa6a5d0c8cffa4ab65b221251ea7227320f350d1e"
   }
  }
 },
 "nbformat": 4,
 "nbformat_minor": 2
}
