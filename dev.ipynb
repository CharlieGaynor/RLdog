{
 "cells": [
  {
   "cell_type": "code",
   "execution_count": 1,
   "metadata": {},
   "outputs": [],
   "source": [
    "%load_ext autoreload\n",
    "%autoreload 2"
   ]
  },
  {
   "cell_type": "code",
   "execution_count": 3,
   "metadata": {},
   "outputs": [],
   "source": [
    "import gym\n",
    "import pandas\n",
    "import torch\n",
    "import torch.nn as nn\n",
    "import random\n",
    "from collections import deque\n",
    "from agents.DQN import DQN\n",
    "from networks.base_network import StandardNN\n",
    "import gym\n",
    "from torch import nn\n",
    "import torch\n",
    "from typing import Union\n",
    "import numpy as np\n",
    "from environments.easy import easy_env"
   ]
  },
  {
   "cell_type": "code",
   "execution_count": 4,
   "metadata": {},
   "outputs": [],
   "source": [
    "from matplotlib import pyplot as plt\n",
    "def moving_average(x, window_length: Union[int, None] = None) -> np.array:\n",
    "    if window_length is None:\n",
    "        window_length = len(x) // 50\n",
    "    return np.convolve(x, np.ones(window_length), \"valid\") / window_length\n",
    "\n",
    "\n",
    "def plot_results(test_rewards):\n",
    "    ma_rewards = moving_average(test_rewards)\n",
    "    plt.plot(ma_rewards, label=\"rewards\")\n",
    "    plt.show()"
   ]
  },
  {
   "cell_type": "code",
   "execution_count": 5,
   "metadata": {},
   "outputs": [],
   "source": [
    "env = gym.make('CartPole-v1', new_step_api=True)\n",
    "\n",
    "try:\n",
    "    n_obs = env.reset().size\n",
    "except AttributeError:\n",
    "    print('oh no, n_obs unknown')\n",
    "\n",
    "n_actions = env.action_space.n  # Not sure how to programatically get this - some manual config will do\n",
    "\n",
    "\n",
    "# agent = eg_model(network1, env.action_space.n)"
   ]
  },
  {
   "cell_type": "code",
   "execution_count": 8,
   "metadata": {},
   "outputs": [
    {
     "data": {
      "text/plain": [
       "(array([ 0.02053273,  0.19246739,  0.03439946, -0.3280915 ], dtype=float32),\n",
       " 1.0,\n",
       " False,\n",
       " False,\n",
       " {})"
      ]
     },
     "execution_count": 8,
     "metadata": {},
     "output_type": "execute_result"
    }
   ],
   "source": [
    "env.reset()\n",
    "env.step(env.action_space.sample())"
   ]
  },
  {
   "cell_type": "code",
   "execution_count": 6,
   "metadata": {},
   "outputs": [],
   "source": [
    "network1 = StandardNN(n_obs, n_actions)"
   ]
  },
  {
   "cell_type": "code",
   "execution_count": 7,
   "metadata": {},
   "outputs": [
    {
     "ename": "ValueError",
     "evalue": "too many values to unpack (expected 4)",
     "output_type": "error",
     "traceback": [
      "\u001b[1;31m---------------------------------------------------------------------------\u001b[0m",
      "\u001b[1;31mValueError\u001b[0m                                Traceback (most recent call last)",
      "\u001b[1;32mc:\\Users\\Charl\\RLdog\\dev.ipynb Cell 6\u001b[0m in \u001b[0;36m<cell line: 3>\u001b[1;34m()\u001b[0m\n\u001b[0;32m      <a href='vscode-notebook-cell:/c%3A/Users/Charl/RLdog/dev.ipynb#ch0000005?line=0'>1</a>\u001b[0m max_games \u001b[39m=\u001b[39m \u001b[39m1000\u001b[39m\n\u001b[0;32m      <a href='vscode-notebook-cell:/c%3A/Users/Charl/RLdog/dev.ipynb#ch0000005?line=1'>2</a>\u001b[0m agent \u001b[39m=\u001b[39m DQN(network1, n_actions, env, max_games\u001b[39m=\u001b[39m max_games, min_epsilon\u001b[39m=\u001b[39m\u001b[39m0.1\u001b[39m, lr\u001b[39m=\u001b[39m\u001b[39m0.1\u001b[39m)\n\u001b[1;32m----> <a href='vscode-notebook-cell:/c%3A/Users/Charl/RLdog/dev.ipynb#ch0000005?line=2'>3</a>\u001b[0m agent\u001b[39m.\u001b[39;49m_play_games(max_games)\n",
      "File \u001b[1;32mc:\\Users\\Charl\\RLdog\\agents\\DQN.py:93\u001b[0m, in \u001b[0;36mDQN._play_games\u001b[1;34m(self, games_to_play)\u001b[0m\n\u001b[0;32m     90\u001b[0m \u001b[39mdef\u001b[39;00m \u001b[39m_play_games\u001b[39m(\u001b[39mself\u001b[39m, games_to_play: \u001b[39mint\u001b[39m) \u001b[39m-\u001b[39m\u001b[39m>\u001b[39m \u001b[39mNone\u001b[39;00m:\n\u001b[0;32m     92\u001b[0m     \u001b[39mwhile\u001b[39;00m games_to_play \u001b[39m>\u001b[39m \u001b[39m1\u001b[39m:\n\u001b[1;32m---> 93\u001b[0m         \u001b[39mself\u001b[39;49m\u001b[39m.\u001b[39;49m_play_game()\n\u001b[0;32m     94\u001b[0m         \u001b[39mif\u001b[39;00m \u001b[39mself\u001b[39m\u001b[39m.\u001b[39mnetwork_needs_updating():\n\u001b[0;32m     95\u001b[0m             \u001b[39mself\u001b[39m\u001b[39m.\u001b[39mupdate_network()\n",
      "File \u001b[1;32mc:\\Users\\Charl\\RLdog\\agents\\DQN.py:81\u001b[0m, in \u001b[0;36mDQN._play_game\u001b[1;34m(self)\u001b[0m\n\u001b[0;32m     79\u001b[0m obs \u001b[39m=\u001b[39m next_obs\n\u001b[0;32m     80\u001b[0m action \u001b[39m=\u001b[39m \u001b[39mself\u001b[39m\u001b[39m.\u001b[39mget_action(torch\u001b[39m.\u001b[39mtensor(obs))\n\u001b[1;32m---> 81\u001b[0m next_obs, reward, done, _ \u001b[39m=\u001b[39m \u001b[39mself\u001b[39m\u001b[39m.\u001b[39menv\u001b[39m.\u001b[39mstep(action)  \u001b[39m# type: ignore\u001b[39;00m\n\u001b[0;32m     82\u001b[0m rewards\u001b[39m.\u001b[39mappend(reward)\n\u001b[0;32m     83\u001b[0m \u001b[39mself\u001b[39m\u001b[39m.\u001b[39mtransitions\u001b[39m.\u001b[39mappendleft(\n\u001b[0;32m     84\u001b[0m     [obs\u001b[39m.\u001b[39mtolist(), [action], [reward], next_obs\u001b[39m.\u001b[39mtolist(), [done]]\n\u001b[0;32m     85\u001b[0m )\n",
      "\u001b[1;31mValueError\u001b[0m: too many values to unpack (expected 4)"
     ]
    }
   ],
   "source": [
    "max_games = 1000\n",
    "agent = DQN(network1, n_actions, env, max_games= max_games, min_epsilon=0.1, lr=0.1)\n",
    "agent._play_games(max_games)"
   ]
  },
  {
   "cell_type": "code",
   "execution_count": 7,
   "metadata": {},
   "outputs": [
    {
     "data": {
      "text/plain": [
       "{0: 31521, 1: 33332}"
      ]
     },
     "execution_count": 7,
     "metadata": {},
     "output_type": "execute_result"
    }
   ],
   "source": [
    "agent.action_counts"
   ]
  },
  {
   "cell_type": "code",
   "execution_count": 8,
   "metadata": {},
   "outputs": [
    {
     "data": {
      "image/png": "[encoded data removed]",
      "text/plain": [
       "<Figure size 432x288 with 1 Axes>"
      ]
     },
     "metadata": {
      "needs_background": "light"
     },
     "output_type": "display_data"
    }
   ],
   "source": [
    "total_rewards = [i[-1] for i in agent.reward_averages]\n",
    "plot_results(total_rewards)"
   ]
  }
 ],
 "metadata": {
  "kernelspec": {
   "display_name": "Python 3.10.5 64-bit",
   "language": "python",
   "name": "python3"
  },
  "language_info": {
   "codemirror_mode": {
    "name": "ipython",
    "version": 3
   },
   "file_extension": ".py",
   "mimetype": "text/x-python",
   "name": "python",
   "nbconvert_exporter": "python",
   "pygments_lexer": "ipython3",
   "version": "3.10.5"
  },
  "orig_nbformat": 4,
  "vscode": {
   "interpreter": {
    "hash": "5ee6f23f9c4d80c203dea4faa6a5d0c8cffa4ab65b221251ea7227320f350d1e"
   }
  }
 },
 "nbformat": 4,
 "nbformat_minor": 2
}
