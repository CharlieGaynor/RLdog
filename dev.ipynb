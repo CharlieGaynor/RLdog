{
 "cells": [
  {
   "cell_type": "code",
   "execution_count": 1,
   "metadata": {},
   "outputs": [],
   "source": [
    "%load_ext autoreload\n",
    "%autoreload 2"
   ]
  },
  {
   "cell_type": "code",
   "execution_count": 2,
   "metadata": {},
   "outputs": [],
   "source": [
    "\n",
    "import gym\n",
    "import pandas\n",
    "import torch\n",
    "import torch.nn as nn\n",
    "import random\n",
    "from collections import deque\n",
    "from agents.DQN import DQN\n",
    "from networks.standard_network import standardNN\n",
    "from networks.basic_network import basicNN\n",
    "import gym\n",
    "from torch import nn\n",
    "import torch\n",
    "from typing import Union\n",
    "import numpy as np\n",
    "from environments.easy import easy_env"
   ]
  },
  {
   "cell_type": "code",
   "execution_count": 20,
   "metadata": {},
   "outputs": [],
   "source": [
    "from matplotlib import pyplot as plt\n",
    "def moving_average(x, window_length: Union[int, None] = None) -> np.ndarray:\n",
    "    if window_length is None:\n",
    "        window_length = max(len(x) // 50, 1)\n",
    "    return np.convolve(x, np.ones(window_length), \"valid\") / window_length\n",
    "\n",
    "def plot_results(test_rewards):\n",
    "    ma_rewards = moving_average(test_rewards)\n",
    "    plt.plot(ma_rewards, label=\"rewards\")\n",
    "    plt.show()"
   ]
  },
  {
   "cell_type": "code",
   "execution_count": 108,
   "metadata": {},
   "outputs": [],
   "source": [
    "env = gym.make('CartPole-v1', new_step_api=True)\n",
    "\n",
    "\n",
    "try:\n",
    "    n_obs = env.reset().size\n",
    "except AttributeError:\n",
    "    try: n_obs = env.observation_space.n\n",
    "    except AttributeError:\n",
    "        print('oh no, n_obs unknown')\n",
    "\n",
    "try: n_actions = env.action_space.n\n",
    "except AttributeError:\n",
    "    print('oh no, n_obs unknown')"
   ]
  },
  {
   "cell_type": "code",
   "execution_count": 116,
   "metadata": {},
   "outputs": [],
   "source": [
    "# network1 = basicNN(n_obs, n_actions)\n",
    "network1 = standardNN(n_obs, n_actions)\n",
    "max_games = 5000\n",
    "agent = DQN(\n",
    "    network1,\n",
    "    n_actions,\n",
    "    n_obs,\n",
    "    env,\n",
    "    max_games=max_games,\n",
    "    min_epsilon=0.1,\n",
    "    lr=1e-3,\n",
    "    alpha=0.2,\n",
    "    gamma=0.99,\n",
    "    mini_batch_size=32,\n",
    "    games_to_decay_epsilon_for=max_games // 2,\n",
    "    state_type='d'\n",
    ")"
   ]
  },
  {
   "cell_type": "code",
   "execution_count": 117,
   "metadata": {},
   "outputs": [],
   "source": [
    "agent.play_games()\n",
    "total_rewards = [i[-1] for i in agent.reward_averages]\n",
    "plot_results(total_rewards)"
   ]
  },
  {
   "cell_type": "code",
   "execution_count": null,
   "metadata": {},
   "outputs": [
    {
     "data": {
      "image/png": "[encoded data removed]",
      "text/plain": [
       "<Figure size 432x288 with 1 Axes>"
      ]
     },
     "metadata": {
      "needs_background": "light"
     },
     "output_type": "display_data"
    },
    {
     "name": "stdout",
     "output_type": "stream",
     "text": [
      "{0: 69, 1: 28}\n",
      "10.777777777777779\n"
     ]
    }
   ],
   "source": [
    "agent.evaluation_mode = True\n",
    "agent.play_games(10)\n",
    "total_rewards = [i[-1] for i in agent.evaluation_reward_averages]\n",
    "plot_results(total_rewards)\n",
    "print(agent.evaluation_action_counts)\n",
    "print(sum(total_rewards) / len(total_rewards))\n",
    "agent.evaluation_mode = False"
   ]
  },
  {
   "cell_type": "code",
   "execution_count": null,
   "metadata": {},
   "outputs": [],
   "source": [
    "a = np.array(3)\n",
    "b = torch.tensor(a, dtype=torch.float32)\n",
    "c = b\n",
    "d = c.squeeze()\n",
    "e = d.unsqueeze(dim=-1)\n",
    "print(a, b, c, d, e)\n",
    "print(b.size())\n",
    "print(c.size())\n",
    "print(d.size())\n",
    "print(e.size())"
   ]
  }
 ],
 "metadata": {
  "kernelspec": {
   "display_name": "Python 3.10.5 64-bit",
   "language": "python",
   "name": "python3"
  },
  "language_info": {
   "codemirror_mode": {
    "name": "ipython",
    "version": 3
   },
   "file_extension": ".py",
   "mimetype": "text/x-python",
   "name": "python",
   "nbconvert_exporter": "python",
   "pygments_lexer": "ipython3",
   "version": "3.10.5"
  },
  "orig_nbformat": 4,
  "vscode": {
   "interpreter": {
    "hash": "5ee6f23f9c4d80c203dea4faa6a5d0c8cffa4ab65b221251ea7227320f350d1e"
   }
  }
 },
 "nbformat": 4,
 "nbformat_minor": 2
}
