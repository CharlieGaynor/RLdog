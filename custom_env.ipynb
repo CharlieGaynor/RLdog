{
 "cells": [
  {
   "cell_type": "code",
   "execution_count": 1,
   "id": "cef27aff",
   "metadata": {},
   "outputs": [],
   "source": [
    "%load_ext autoreload\n",
    "%autoreload 2"
   ]
  },
  {
   "cell_type": "code",
   "execution_count": 2,
   "id": "8b61e407-cf36-46b5-9930-d0f3979b7e7f",
   "metadata": {},
   "outputs": [],
   "source": [
    "from agents.DQN import DQN\n",
    "from networks.test_network import testNN\n",
    "from environments.easy import easy_env\n",
    "from collections import Counter"
   ]
  },
  {
   "cell_type": "code",
   "execution_count": 3,
   "id": "bdcb6e1e-5667-4932-89cc-52fa6a6c552c",
   "metadata": {},
   "outputs": [],
   "source": [
    "def grab_agent() -> DQN:\n",
    "    \"\"\"\n",
    "    Instantiates agent for testing\n",
    "    \"\"\"\n",
    "\n",
    "    #  Use the new step API, which returns a truncated observation\n",
    "    env = easy_env()\n",
    "\n",
    "    n_obs = env.n_obs\n",
    "\n",
    "    n_actions = env.n_actions\n",
    "\n",
    "    network1 = testNN(n_obs, n_actions)\n",
    "    # agent = eg_model(network1, env.action_space.n)\n",
    "    buffer_size = 128\n",
    "    agent = DQN(network1, n_actions, env, buffer_size)\n",
    "    agent.epsilon = 0.5\n",
    "\n",
    "    return agent\n"
   ]
  },
  {
   "cell_type": "code",
   "execution_count": 8,
   "id": "13e44b40",
   "metadata": {},
   "outputs": [],
   "source": [
    "from tests.get_agent import grab_agent\n",
    "import torch\n",
    "\n",
    "agent = grab_agent()\n",
    "\n",
    "\n",
    "def test_transition_sampling():\n",
    "    \"\"\"\n",
    "    Checks FI-FO works & buffer size is met\n",
    "    \"\"\"\n",
    "    buffer_size = agent.buffer_size\n",
    "    for i in range(buffer_size):\n",
    "        agent.transitions.appendleft(i)\n",
    "    assert agent.transitions.pop() == 0\n",
    "    agent.transitions.append(0)\n",
    "    assert agent.transitions[-1] == 0\n",
    "\n",
    "    agent.transitions.append(0)\n",
    "    assert len(agent.transitions) == buffer_size\n",
    "\n",
    "\n",
    "def test_get_action():\n",
    "    \"\"\"\n",
    "    Tests we grab an action correctly, including using Epsilon greedy right\n",
    "    \"\"\"\n",
    "    actions = []\n",
    "    agent.epsilon = 0\n",
    "    for _ in range(100):\n",
    "        actions.append(agent.get_action(torch.tensor([1], dtype=torch.float32)))\n",
    "        \n",
    "    return Counter(actions)\n",
    "        \n",
    "        \n",
    "a = test_get_action()\n"
   ]
  },
  {
   "cell_type": "code",
   "execution_count": 9,
   "id": "cec1e7f0",
   "metadata": {},
   "outputs": [
    {
     "data": {
      "text/plain": [
       "100"
      ]
     },
     "execution_count": 9,
     "metadata": {},
     "output_type": "execute_result"
    }
   ],
   "source": [
    "a[1]"
   ]
  }
 ],
 "metadata": {
  "kernelspec": {
   "display_name": "Python 3.10.5 64-bit",
   "language": "python",
   "name": "python3"
  },
  "language_info": {
   "codemirror_mode": {
    "name": "ipython",
    "version": 3
   },
   "file_extension": ".py",
   "mimetype": "text/x-python",
   "name": "python",
   "nbconvert_exporter": "python",
   "pygments_lexer": "ipython3",
   "version": "3.10.5"
  },
  "vscode": {
   "interpreter": {
    "hash": "5ee6f23f9c4d80c203dea4faa6a5d0c8cffa4ab65b221251ea7227320f350d1e"
   }
  }
 },
 "nbformat": 4,
 "nbformat_minor": 5
}
